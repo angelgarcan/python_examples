{
 "cells": [
  {
   "cell_type": "markdown",
   "metadata": {},
   "source": [
    "https://console.firebase.google.com/u/0/project/challenge-watchdog/database/challenge-watchdog-default-rtdb/data/~2F  \n",
    "https://www.freecodecamp.org/news/how-to-get-started-with-firebase-using-python/  \n",
    "https://medium.com/theleanprogrammer/connecting-firebase-6102ef4eca08  \n"
   ]
  },
  {
   "cell_type": "code",
   "execution_count": 1,
   "metadata": {},
   "outputs": [
    {
     "name": "stdout",
     "output_type": "stream",
     "text": [
      "{'Book1': {'Author': 'J.R.R. Tolkien', 'Genre': 'Epic fantasy', 'Price': 100, 'Title': 'The Fellowship of the Ring'}, 'Book2': {'Author': 'J.R.R. Tolkien', 'Genre': 'Epic fantasy', 'Price': 100, 'Title': 'The Two Towers'}, 'Book3': {'Author': 'J.R.R. Tolkien', 'Genre': 'Epic fantasy', 'Price': 100, 'Title': 'The Return of the King'}, 'Book4': {'Author': 'Paulo Coelho', 'Genre': 'Fiction', 'Price': 100, 'Title': 'Brida'}}\n"
     ]
    }
   ],
   "source": [
    "import firebase_admin\n",
    "from firebase_admin import credentials, db\n",
    "import json\n",
    "\n",
    "cred = credentials.Certificate(\"challenge-watchdog-firebase-adminsdk-1a7h5-d5fe56698a.json\")\n",
    "# firebase_admin.initialize_app(cred)\n",
    "firebase_admin.initialize_app(cred, {\n",
    "    'databaseURL': \"https://challenge-watchdog-default-rtdb.firebaseio.com/\"\n",
    "})\n",
    "ref = db.reference('/')\n",
    "print(ref.get())"
   ]
  },
  {
   "cell_type": "code",
   "execution_count": null,
   "metadata": {},
   "outputs": [],
   "source": [
    "with open(\"book_info.json\", \"r\") as f:\n",
    "\tfile_contents = json.load(f)\n",
    "ref.set(file_contents)\n",
    "\n",
    "ref = db.reference('/')\n",
    "print(ref.get())"
   ]
  },
  {
   "cell_type": "code",
   "execution_count": 15,
   "metadata": {},
   "outputs": [
    {
     "name": "stdout",
     "output_type": "stream",
     "text": [
      "{'Author': 'J.R.R. Tolkien', 'Genre': 'Epic fantasy', 'Price': 100, 'Title': 'The Fellowship of the Ring'}\n",
      "{'Author': 'J.R.R. Tolkien', 'Genre': 'Epic fantasy', 'Price': 100, 'Title': 'The Two Towers'}\n",
      "{'Author': 'J.R.R. Tolkien', 'Genre': 'Epic fantasy', 'Price': 100, 'Title': 'The Return of the King'}\n",
      "{'Author': 'Paulo Coelho', 'Genre': 'Fiction', 'Price': 100, 'Title': 'Brida'}\n"
     ]
    }
   ],
   "source": [
    "# ref.set({\n",
    "# \t\"Books\":\n",
    "# \t{\n",
    "# \t\t\"Best_Sellers\": -1\n",
    "# \t}\n",
    "# })\n",
    "\n",
    "ref = db.reference(\"/events\")\n",
    "with open(\"book_info.json\", \"r\") as f:\n",
    "\tfile_contents = json.load(f)\n",
    "\n",
    "for key, value in file_contents.items():\n",
    "\tpushed_ref = ref.push()\n",
    "\tpushed_ref.set(value)\n",
    "\tnew_key=pushed_ref.key\n",
    "\t# print(new_key)\n",
    "\tprint(db.reference(f\"/events/{new_key}\").get())\n",
    "\n",
    "# print(ref.get())"
   ]
  }
 ],
 "metadata": {
  "interpreter": {
   "hash": "b89b5cfaba6639976dc87ff2fec6d58faec662063367e2c229c520fe71072417"
  },
  "kernelspec": {
   "display_name": "Python 3.10.4 64-bit",
   "language": "python",
   "name": "python3"
  },
  "language_info": {
   "codemirror_mode": {
    "name": "ipython",
    "version": 3
   },
   "file_extension": ".py",
   "mimetype": "text/x-python",
   "name": "python",
   "nbconvert_exporter": "python",
   "pygments_lexer": "ipython3",
   "version": "3.10.4"
  },
  "orig_nbformat": 4
 },
 "nbformat": 4,
 "nbformat_minor": 2
}
